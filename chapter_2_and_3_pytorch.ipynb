{
  "nbformat": 4,
  "nbformat_minor": 0,
  "metadata": {
    "colab": {
      "name": "chapter 2 pytorch.ipynb",
      "provenance": [],
      "collapsed_sections": []
    },
    "kernelspec": {
      "name": "python3",
      "display_name": "Python 3"
    },
    "language_info": {
      "name": "python"
    }
  },
  "cells": [
    {
      "cell_type": "code",
      "metadata": {
        "id": "7uAjmar8rBXj"
      },
      "source": [
        "import torch \n",
        "from torchvision import models "
      ],
      "execution_count": 1,
      "outputs": []
    },
    {
      "cell_type": "code",
      "metadata": {
        "colab": {
          "base_uri": "https://localhost:8080/"
        },
        "id": "7J2XHb4irSUR",
        "outputId": "04323b2e-4209-46ef-889b-581f240ec93d"
      },
      "source": [
        "torch.ones(10)"
      ],
      "execution_count": 2,
      "outputs": [
        {
          "output_type": "execute_result",
          "data": {
            "text/plain": [
              "tensor([1., 1., 1., 1., 1., 1., 1., 1., 1., 1.])"
            ]
          },
          "metadata": {},
          "execution_count": 2
        }
      ]
    },
    {
      "cell_type": "code",
      "metadata": {
        "colab": {
          "base_uri": "https://localhost:8080/"
        },
        "id": "fUCfmhR_uCOj",
        "outputId": "8aaa5ed5-135c-4700-dcf7-f2ae40d45e39"
      },
      "source": [
        "torch.zeros(10)"
      ],
      "execution_count": 3,
      "outputs": [
        {
          "output_type": "execute_result",
          "data": {
            "text/plain": [
              "tensor([0., 0., 0., 0., 0., 0., 0., 0., 0., 0.])"
            ]
          },
          "metadata": {},
          "execution_count": 3
        }
      ]
    },
    {
      "cell_type": "code",
      "metadata": {
        "colab": {
          "base_uri": "https://localhost:8080/"
        },
        "id": "cPyWtCYjuDlh",
        "outputId": "fd494dca-b21c-468f-ec09-d2739068bf42"
      },
      "source": [
        "torch.ones((2,5))"
      ],
      "execution_count": 4,
      "outputs": [
        {
          "output_type": "execute_result",
          "data": {
            "text/plain": [
              "tensor([[1., 1., 1., 1., 1.],\n",
              "        [1., 1., 1., 1., 1.]])"
            ]
          },
          "metadata": {},
          "execution_count": 4
        }
      ]
    },
    {
      "cell_type": "code",
      "metadata": {
        "colab": {
          "base_uri": "https://localhost:8080/"
        },
        "id": "j-Wa9RZ5uFX6",
        "outputId": "37fead02-069d-420e-a125-540a118a9806"
      },
      "source": [
        "torch.ones((3,5))"
      ],
      "execution_count": 5,
      "outputs": [
        {
          "output_type": "execute_result",
          "data": {
            "text/plain": [
              "tensor([[1., 1., 1., 1., 1.],\n",
              "        [1., 1., 1., 1., 1.],\n",
              "        [1., 1., 1., 1., 1.]])"
            ]
          },
          "metadata": {},
          "execution_count": 5
        }
      ]
    },
    {
      "cell_type": "code",
      "metadata": {
        "id": "cyAxeX4-uImW"
      },
      "source": [
        "z = torch.zeros((3,5))"
      ],
      "execution_count": 6,
      "outputs": []
    },
    {
      "cell_type": "code",
      "metadata": {
        "colab": {
          "base_uri": "https://localhost:8080/"
        },
        "id": "Dsgrx2jIvCKH",
        "outputId": "5a89bb28-b3ba-42ca-a2c0-825cc0319294"
      },
      "source": [
        "z.shape"
      ],
      "execution_count": 7,
      "outputs": [
        {
          "output_type": "execute_result",
          "data": {
            "text/plain": [
              "torch.Size([3, 5])"
            ]
          },
          "metadata": {},
          "execution_count": 7
        }
      ]
    },
    {
      "cell_type": "code",
      "metadata": {
        "colab": {
          "base_uri": "https://localhost:8080/"
        },
        "id": "o11cSrmSvC1J",
        "outputId": "321d3470-11e5-4b4c-c58a-2105ff2db50f"
      },
      "source": [
        "z[1:, :]"
      ],
      "execution_count": 8,
      "outputs": [
        {
          "output_type": "execute_result",
          "data": {
            "text/plain": [
              "tensor([[0., 0., 0., 0., 0.],\n",
              "        [0., 0., 0., 0., 0.]])"
            ]
          },
          "metadata": {},
          "execution_count": 8
        }
      ]
    },
    {
      "cell_type": "code",
      "metadata": {
        "id": "ZeIR6wuvvRF1"
      },
      "source": [
        "wait = torch.randint(0,10,(5,5),dtype = torch.float32)"
      ],
      "execution_count": 9,
      "outputs": []
    },
    {
      "cell_type": "code",
      "metadata": {
        "colab": {
          "base_uri": "https://localhost:8080/"
        },
        "id": "8RwGPL81wBCg",
        "outputId": "c8980c12-b010-48ab-cef8-d7d5ad06893b"
      },
      "source": [
        "wait "
      ],
      "execution_count": 10,
      "outputs": [
        {
          "output_type": "execute_result",
          "data": {
            "text/plain": [
              "tensor([[9., 1., 1., 7., 2.],\n",
              "        [3., 6., 6., 9., 3.],\n",
              "        [9., 3., 9., 4., 7.],\n",
              "        [8., 2., 0., 4., 5.],\n",
              "        [0., 4., 4., 3., 7.]])"
            ]
          },
          "metadata": {},
          "execution_count": 10
        }
      ]
    },
    {
      "cell_type": "code",
      "metadata": {
        "colab": {
          "base_uri": "https://localhost:8080/"
        },
        "id": "2f-60nS6wk1C",
        "outputId": "bbddc2ff-b8db-45b3-cca2-7ea078463dd1"
      },
      "source": [
        "wait[1:, 1:]"
      ],
      "execution_count": 11,
      "outputs": [
        {
          "output_type": "execute_result",
          "data": {
            "text/plain": [
              "tensor([[6., 6., 9., 3.],\n",
              "        [3., 9., 4., 7.],\n",
              "        [2., 0., 4., 5.],\n",
              "        [4., 4., 3., 7.]])"
            ]
          },
          "metadata": {},
          "execution_count": 11
        }
      ]
    },
    {
      "cell_type": "code",
      "metadata": {
        "colab": {
          "base_uri": "https://localhost:8080/"
        },
        "id": "8uu9AQCCwm_D",
        "outputId": "8488a033-0748-42dd-94cd-b3521be165ab"
      },
      "source": [
        "wait[3:, 0]"
      ],
      "execution_count": 12,
      "outputs": [
        {
          "output_type": "execute_result",
          "data": {
            "text/plain": [
              "tensor([8., 0.])"
            ]
          },
          "metadata": {},
          "execution_count": 12
        }
      ]
    },
    {
      "cell_type": "code",
      "metadata": {
        "colab": {
          "base_uri": "https://localhost:8080/"
        },
        "id": "pQ5wU5dYwyka",
        "outputId": "b2a4dee3-a72b-43b4-f3ea-3a6aefe12d10"
      },
      "source": [
        "torch.randn(3,4,5) # channels , rows, columns "
      ],
      "execution_count": 13,
      "outputs": [
        {
          "output_type": "execute_result",
          "data": {
            "text/plain": [
              "tensor([[[ 1.0800, -1.0363, -0.2134,  1.7335, -0.6182],\n",
              "         [ 0.8326,  1.2203,  0.9697,  0.2248, -0.7992],\n",
              "         [ 0.8559,  0.0674,  0.9632,  0.0359,  0.3953],\n",
              "         [ 2.1441, -0.6537,  0.4777, -0.0943,  0.8233]],\n",
              "\n",
              "        [[-0.3395, -0.4890,  0.4603, -0.0815,  1.2766],\n",
              "         [-1.0230,  2.9410,  0.1326,  0.9120,  0.0458],\n",
              "         [-0.1175, -0.9099, -0.6435, -0.6929, -0.4960],\n",
              "         [ 0.0947,  0.2560,  1.3297,  0.6208, -0.2756]],\n",
              "\n",
              "        [[-0.8124,  0.8454,  0.8470,  1.3834, -0.1195],\n",
              "         [-0.5869,  1.3541, -0.5919,  0.4630, -0.8565],\n",
              "         [ 0.5551, -0.2565, -1.4186,  1.0915, -0.2431],\n",
              "         [ 0.7785,  0.2294,  1.3218, -1.0336, -1.1087]]])"
            ]
          },
          "metadata": {},
          "execution_count": 13
        }
      ]
    },
    {
      "cell_type": "code",
      "metadata": {
        "colab": {
          "base_uri": "https://localhost:8080/"
        },
        "id": "8qFsI5DLxqcm",
        "outputId": "ec75cd3e-53ca-4d42-dc7c-f2dbe7329e0e"
      },
      "source": [
        "torch.randn(1,3,5,5) # batch , channels, rows, columns "
      ],
      "execution_count": 14,
      "outputs": [
        {
          "output_type": "execute_result",
          "data": {
            "text/plain": [
              "tensor([[[[-0.5585,  0.6944,  0.5026, -0.5080,  0.3340],\n",
              "          [ 0.0714,  1.3269, -0.1472, -0.5579, -0.3222],\n",
              "          [ 0.4198, -0.5404, -1.3409, -1.3523, -0.1582],\n",
              "          [ 1.0525, -1.8720,  0.6526,  0.1949, -0.0764],\n",
              "          [-1.4627, -0.0310, -1.7442,  0.6025, -1.2766]],\n",
              "\n",
              "         [[ 0.7472, -0.7741,  0.2923,  0.3943, -1.2387],\n",
              "          [-0.7695,  1.2783,  1.3001, -0.8214, -0.9262],\n",
              "          [ 0.6591,  0.3165,  0.8561, -1.1057, -0.0397],\n",
              "          [-0.2077,  0.5183, -0.1992,  0.7092, -0.3960],\n",
              "          [-0.3380, -0.1620, -1.1149,  1.7339,  0.2553]],\n",
              "\n",
              "         [[ 0.8439,  1.7550, -0.9276, -0.5444,  0.9512],\n",
              "          [ 0.1983,  0.6564,  2.5738, -1.9805,  1.0597],\n",
              "          [ 0.7932,  1.6373,  1.1402,  0.7216,  1.2134],\n",
              "          [ 1.7417, -0.7589, -0.1570,  1.2332, -0.5655],\n",
              "          [ 0.4805, -0.9030, -0.1133, -0.9717,  0.1567]]]])"
            ]
          },
          "metadata": {},
          "execution_count": 14
        }
      ]
    },
    {
      "cell_type": "code",
      "metadata": {
        "colab": {
          "base_uri": "https://localhost:8080/"
        },
        "id": "qRQvV01vxxeW",
        "outputId": "1a798703-a360-45cc-ffc8-415039d34dbf"
      },
      "source": [
        "wait, wait.shape"
      ],
      "execution_count": 15,
      "outputs": [
        {
          "output_type": "execute_result",
          "data": {
            "text/plain": [
              "(tensor([[9., 1., 1., 7., 2.],\n",
              "         [3., 6., 6., 9., 3.],\n",
              "         [9., 3., 9., 4., 7.],\n",
              "         [8., 2., 0., 4., 5.],\n",
              "         [0., 4., 4., 3., 7.]]), torch.Size([5, 5]))"
            ]
          },
          "metadata": {},
          "execution_count": 15
        }
      ]
    },
    {
      "cell_type": "code",
      "metadata": {
        "colab": {
          "base_uri": "https://localhost:8080/"
        },
        "id": "2jq5Who3yk8K",
        "outputId": "49fb7b76-bf11-4458-ea78-97eba962f4b1"
      },
      "source": [
        "torch.unsqueeze(wait, -2 ),torch.unsqueeze(wait, 2 ) # adding dimension rowwise and adding dimeension to each element in the row with adding it rowwise also :)"
      ],
      "execution_count": 16,
      "outputs": [
        {
          "output_type": "execute_result",
          "data": {
            "text/plain": [
              "(tensor([[[9., 1., 1., 7., 2.]],\n",
              " \n",
              "         [[3., 6., 6., 9., 3.]],\n",
              " \n",
              "         [[9., 3., 9., 4., 7.]],\n",
              " \n",
              "         [[8., 2., 0., 4., 5.]],\n",
              " \n",
              "         [[0., 4., 4., 3., 7.]]]), tensor([[[9.],\n",
              "          [1.],\n",
              "          [1.],\n",
              "          [7.],\n",
              "          [2.]],\n",
              " \n",
              "         [[3.],\n",
              "          [6.],\n",
              "          [6.],\n",
              "          [9.],\n",
              "          [3.]],\n",
              " \n",
              "         [[9.],\n",
              "          [3.],\n",
              "          [9.],\n",
              "          [4.],\n",
              "          [7.]],\n",
              " \n",
              "         [[8.],\n",
              "          [2.],\n",
              "          [0.],\n",
              "          [4.],\n",
              "          [5.]],\n",
              " \n",
              "         [[0.],\n",
              "          [4.],\n",
              "          [4.],\n",
              "          [3.],\n",
              "          [7.]]]))"
            ]
          },
          "metadata": {},
          "execution_count": 16
        }
      ]
    },
    {
      "cell_type": "markdown",
      "metadata": {
        "id": "q828v6Y0ymUW"
      },
      "source": [
        "# types of arguments \n",
        "\n",
        "*  torch.float32 or torch.float : 32-bit floating-point\n",
        "*  torch.float64 or torch.double : 64-bit, double-precision floating-point\n",
        "*  torch.float16 or torch.half : 16-bit, half-precision floating-point\n",
        "*  torch.int8 : signed 8-bit integers\n",
        "*  torch.uint8 : unsigned 8-bit integers\n",
        "*  torch.int16 or torch.short : signed 16-bit integers\n",
        "*  torch.int32 or torch.int : signed 32-bit integers\n",
        "*  torch.int64 or torch.long : signed 64-bit integers\n",
        "*  torch.bool : Boolean"
      ]
    },
    {
      "cell_type": "markdown",
      "metadata": {
        "id": "Q1VODqPN02XS"
      },
      "source": [
        "# passing computations to the GPU and bringing them back to CPU \n"
      ]
    },
    {
      "cell_type": "markdown",
      "metadata": {
        "id": "MsrhhPi4fjpH"
      },
      "source": [
        "## for declairng points on GPU ram itself \n",
        "`torch.rand((3,3),device = 'cuda')`"
      ]
    },
    {
      "cell_type": "code",
      "metadata": {
        "colab": {
          "base_uri": "https://localhost:8080/",
          "height": 282
        },
        "id": "wNnXP98rfxUu",
        "outputId": "9e17e6d3-39cb-4d96-d7d1-1206bd092a25"
      },
      "source": [
        "torch.randn((3,3), device = 'cuda')"
      ],
      "execution_count": 17,
      "outputs": [
        {
          "output_type": "error",
          "ename": "RuntimeError",
          "evalue": "ignored",
          "traceback": [
            "\u001b[0;31m---------------------------------------------------------------------------\u001b[0m",
            "\u001b[0;31mRuntimeError\u001b[0m                              Traceback (most recent call last)",
            "\u001b[0;32m<ipython-input-17-6d0fce8ec160>\u001b[0m in \u001b[0;36m<module>\u001b[0;34m()\u001b[0m\n\u001b[0;32m----> 1\u001b[0;31m \u001b[0mtorch\u001b[0m\u001b[0;34m.\u001b[0m\u001b[0mrandn\u001b[0m\u001b[0;34m(\u001b[0m\u001b[0;34m(\u001b[0m\u001b[0;36m3\u001b[0m\u001b[0;34m,\u001b[0m\u001b[0;36m3\u001b[0m\u001b[0;34m)\u001b[0m\u001b[0;34m,\u001b[0m \u001b[0mdevice\u001b[0m \u001b[0;34m=\u001b[0m \u001b[0;34m'cuda'\u001b[0m\u001b[0;34m)\u001b[0m\u001b[0;34m\u001b[0m\u001b[0;34m\u001b[0m\u001b[0m\n\u001b[0m",
            "\u001b[0;32m/usr/local/lib/python3.7/dist-packages/torch/cuda/__init__.py\u001b[0m in \u001b[0;36m_lazy_init\u001b[0;34m()\u001b[0m\n\u001b[1;32m    170\u001b[0m         \u001b[0;31m# This function throws if there's a driver initialization error, no GPUs\u001b[0m\u001b[0;34m\u001b[0m\u001b[0;34m\u001b[0m\u001b[0;34m\u001b[0m\u001b[0m\n\u001b[1;32m    171\u001b[0m         \u001b[0;31m# are found or any other error occurs\u001b[0m\u001b[0;34m\u001b[0m\u001b[0;34m\u001b[0m\u001b[0;34m\u001b[0m\u001b[0m\n\u001b[0;32m--> 172\u001b[0;31m         \u001b[0mtorch\u001b[0m\u001b[0;34m.\u001b[0m\u001b[0m_C\u001b[0m\u001b[0;34m.\u001b[0m\u001b[0m_cuda_init\u001b[0m\u001b[0;34m(\u001b[0m\u001b[0;34m)\u001b[0m\u001b[0;34m\u001b[0m\u001b[0;34m\u001b[0m\u001b[0m\n\u001b[0m\u001b[1;32m    173\u001b[0m         \u001b[0;31m# Some of the queued calls may reentrantly call _lazy_init();\u001b[0m\u001b[0;34m\u001b[0m\u001b[0;34m\u001b[0m\u001b[0;34m\u001b[0m\u001b[0m\n\u001b[1;32m    174\u001b[0m         \u001b[0;31m# we need to just return without initializing in that case.\u001b[0m\u001b[0;34m\u001b[0m\u001b[0;34m\u001b[0m\u001b[0;34m\u001b[0m\u001b[0m\n",
            "\u001b[0;31mRuntimeError\u001b[0m: No CUDA GPUs are available"
          ]
        }
      ]
    },
    {
      "cell_type": "code",
      "metadata": {
        "colab": {
          "base_uri": "https://localhost:8080/"
        },
        "id": "mUj44H0afzkc",
        "outputId": "d573dc8d-a1cb-403a-9f35-6d5d8e6eb80f"
      },
      "source": [
        "torch.randn((3,3),device = 'cpu')"
      ],
      "execution_count": 18,
      "outputs": [
        {
          "output_type": "execute_result",
          "data": {
            "text/plain": [
              "tensor([[ 1.2566, -0.5868, -2.5443],\n",
              "        [-1.5580, -0.0174, -1.2153],\n",
              "        [ 0.4373, -0.4418,  0.2284]])"
            ]
          },
          "metadata": {},
          "execution_count": 18
        }
      ]
    },
    {
      "cell_type": "markdown",
      "metadata": {
        "id": "O4cd_Ttcf3QD"
      },
      "source": [
        "## for pointing the copy of tensor to GPU \n",
        "`tensor.to(device = 'cuda')`\n"
      ]
    },
    {
      "cell_type": "code",
      "metadata": {
        "colab": {
          "base_uri": "https://localhost:8080/"
        },
        "id": "3o_5qaicf7wK",
        "outputId": "03529a0b-d8fd-4669-bb3d-6dafcfc42691"
      },
      "source": [
        "x = torch.rand((3,3))\n",
        "x "
      ],
      "execution_count": 19,
      "outputs": [
        {
          "output_type": "execute_result",
          "data": {
            "text/plain": [
              "tensor([[0.7218, 0.3510, 0.8346],\n",
              "        [0.8031, 0.4956, 0.5727],\n",
              "        [0.9988, 0.5188, 0.1361]])"
            ]
          },
          "metadata": {},
          "execution_count": 19
        }
      ]
    },
    {
      "cell_type": "code",
      "metadata": {
        "colab": {
          "base_uri": "https://localhost:8080/",
          "height": 163
        },
        "id": "mJeGnZjbgLKS",
        "outputId": "b75267b4-42a5-49b2-9929-1f670526eaab"
      },
      "source": [
        "x.point(device = 'cuda')"
      ],
      "execution_count": 20,
      "outputs": [
        {
          "output_type": "error",
          "ename": "AttributeError",
          "evalue": "ignored",
          "traceback": [
            "\u001b[0;31m---------------------------------------------------------------------------\u001b[0m",
            "\u001b[0;31mAttributeError\u001b[0m                            Traceback (most recent call last)",
            "\u001b[0;32m<ipython-input-20-ddc5bdd3044a>\u001b[0m in \u001b[0;36m<module>\u001b[0;34m()\u001b[0m\n\u001b[0;32m----> 1\u001b[0;31m \u001b[0mx\u001b[0m\u001b[0;34m.\u001b[0m\u001b[0mpoint\u001b[0m\u001b[0;34m(\u001b[0m\u001b[0mdevice\u001b[0m \u001b[0;34m=\u001b[0m \u001b[0;34m'cuda'\u001b[0m\u001b[0;34m)\u001b[0m\u001b[0;34m\u001b[0m\u001b[0;34m\u001b[0m\u001b[0m\n\u001b[0m",
            "\u001b[0;31mAttributeError\u001b[0m: 'Tensor' object has no attribute 'point'"
          ]
        }
      ]
    },
    {
      "cell_type": "markdown",
      "metadata": {
        "id": "LNEHu6gygNfm"
      },
      "source": [
        "# numpy exchanges "
      ]
    },
    {
      "cell_type": "code",
      "metadata": {
        "colab": {
          "base_uri": "https://localhost:8080/"
        },
        "id": "5c-wyqC5gRE4",
        "outputId": "bb431b85-0ada-48bd-dfb5-d89c224302ae"
      },
      "source": [
        "x "
      ],
      "execution_count": 21,
      "outputs": [
        {
          "output_type": "execute_result",
          "data": {
            "text/plain": [
              "tensor([[0.7218, 0.3510, 0.8346],\n",
              "        [0.8031, 0.4956, 0.5727],\n",
              "        [0.9988, 0.5188, 0.1361]])"
            ]
          },
          "metadata": {},
          "execution_count": 21
        }
      ]
    },
    {
      "cell_type": "code",
      "metadata": {
        "colab": {
          "base_uri": "https://localhost:8080/"
        },
        "id": "IHuyDpNpgSZL",
        "outputId": "7ec19d82-f30b-41a2-8196-d97d06b2fbe4"
      },
      "source": [
        "x.numpy()"
      ],
      "execution_count": 22,
      "outputs": [
        {
          "output_type": "execute_result",
          "data": {
            "text/plain": [
              "array([[0.7217749 , 0.35102737, 0.8345992 ],\n",
              "       [0.8031484 , 0.4956004 , 0.5727415 ],\n",
              "       [0.99877393, 0.5188257 , 0.13612312]], dtype=float32)"
            ]
          },
          "metadata": {},
          "execution_count": 22
        }
      ]
    },
    {
      "cell_type": "code",
      "metadata": {
        "id": "EZBgao5hgTTL"
      },
      "source": [
        "## giving inputs from numpy arrays "
      ],
      "execution_count": 23,
      "outputs": []
    },
    {
      "cell_type": "code",
      "metadata": {
        "id": "0FCAZUCDgYRH"
      },
      "source": [
        "import numpy as np \n",
        "np_arr=np.random.rand(3,2)"
      ],
      "execution_count": 31,
      "outputs": []
    },
    {
      "cell_type": "code",
      "metadata": {
        "colab": {
          "base_uri": "https://localhost:8080/"
        },
        "id": "c741oyTRgbfy",
        "outputId": "eee6177b-3a7e-4a2b-c86a-97d88d59069d"
      },
      "source": [
        "# converting the above np array to torch tensor \n",
        "torch.from_numpy(np_arr)"
      ],
      "execution_count": 32,
      "outputs": [
        {
          "output_type": "execute_result",
          "data": {
            "text/plain": [
              "tensor([[0.4877, 0.7793],\n",
              "        [0.7493, 0.3300],\n",
              "        [0.4707, 0.5370]], dtype=torch.float64)"
            ]
          },
          "metadata": {},
          "execution_count": 32
        }
      ]
    },
    {
      "cell_type": "code",
      "metadata": {
        "colab": {
          "base_uri": "https://localhost:8080/"
        },
        "id": "c4wHN5kjg3Ym",
        "outputId": "f3592267-8558-4904-d175-172443be6794"
      },
      "source": [
        "# or we have another one \n",
        "torch.tensor(np_arr)"
      ],
      "execution_count": 33,
      "outputs": [
        {
          "output_type": "execute_result",
          "data": {
            "text/plain": [
              "tensor([[0.4877, 0.7793],\n",
              "        [0.7493, 0.3300],\n",
              "        [0.4707, 0.5370]], dtype=torch.float64)"
            ]
          },
          "metadata": {},
          "execution_count": 33
        }
      ]
    },
    {
      "cell_type": "markdown",
      "metadata": {
        "id": "2_80sbK2g55r"
      },
      "source": [
        "# what if we want to save some points to the memory if we want to have weights of that tensors exactly "
      ]
    },
    {
      "cell_type": "code",
      "metadata": {
        "id": "WC-OXfcthPf_"
      },
      "source": [
        "torch.save(np_arr,'./out_points.t')"
      ],
      "execution_count": 36,
      "outputs": []
    },
    {
      "cell_type": "code",
      "metadata": {
        "colab": {
          "base_uri": "https://localhost:8080/"
        },
        "id": "UoR_w4_UhVCp",
        "outputId": "9c3e9d85-903f-4100-9173-19588938629b"
      },
      "source": [
        "# reading the saved points \n",
        "torch.load('./out_points.t')"
      ],
      "execution_count": 38,
      "outputs": [
        {
          "output_type": "execute_result",
          "data": {
            "text/plain": [
              "array([[0.48772983, 0.77927247],\n",
              "       [0.74926265, 0.33001337],\n",
              "       [0.47069321, 0.53696633]])"
            ]
          },
          "metadata": {},
          "execution_count": 38
        }
      ]
    },
    {
      "cell_type": "markdown",
      "metadata": {
        "id": "4t3HTYrIhhg7"
      },
      "source": [
        "# summary \n",
        "\n",
        "*  Neural networks transform floating-point representations into other floating-\n",
        "point representations. The starting and ending representations are typically\n",
        "human interpretable, but the intermediate representations are less so.\n",
        "*  These floating-point representations are stored in tensors.\n",
        "*  Tensors are multidimensional arrays; they are the basic data structure in\n",
        "PyTorch.\n",
        "*  PyTorch has a comprehensive standard library for tensor creation, manipula-\n",
        "tion, and mathematical operations.\n",
        "*  Tensors can be serialized to disk and loaded back.\n",
        "*  All tensor operations in PyTorch can execute on the CPU as well as on the GPU,\n",
        "with no change in the code.\n",
        "*  PyTorch uses a trailing underscore to indicate that a function operates in place\n",
        "on a tensor (for example, Tensor.sqrt_ )."
      ]
    },
    {
      "cell_type": "code",
      "metadata": {
        "id": "YYoTyTIUjXQC"
      },
      "source": [
        ""
      ],
      "execution_count": null,
      "outputs": []
    }
  ]
}